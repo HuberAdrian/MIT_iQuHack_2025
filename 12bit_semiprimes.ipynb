{
 "cells": [
  {
   "cell_type": "markdown",
   "metadata": {},
   "source": [
    "# Shor's Algorithm Implementation for 12-bit Numbers"
   ]
  },
  {
   "cell_type": "markdown",
   "metadata": {},
   "source": [
    "### Author: Adrian Huber (qe24m003@technikum-wien.at)"
   ]
  },
  {
   "cell_type": "markdown",
   "metadata": {},
   "source": [
    "## 1. The Problem: Period Finding with Quantum Phase Estimation\n",
    "\n",
    "A semiprime number N is the product of exactly two prime numbers p and q, and while multiplication of these primes is computationally trivial, the reverse process of factoring N into its prime constituents becomes exponentially harder as the number grows larger. This property, where both p and q are large prime numbers, forms the foundation of widely-used cryptographic systems like RSA, where the security relies on the practical impossibility of factoring large semiprimes using classical computers.\n",
    "\n",
    "`N = p × q`\n",
    "where p and q are prime numbers\n",
    "\n",
    "Shor's algorithm solves the integer factorization problem by reducing it to a period-finding problem that can be solved efficiently on a quantum computer. For a 12-bit number N (like 3127) that we want to factor, and a randomly chosen coprime number a, we need to find the period r where:\n",
    "\n",
    "`a^r mod N = 1`\n",
    "\n",
    "This period r can then be used to find factors of N with high probability.\n",
    "\n",
    "### The Quantum Part: Phase Estimation \n",
    "\n",
    "The core quantum component uses quantum phase estimation on the unitary operator:\n",
    "\n",
    "`U|y⟩ ≡ |ay mod N⟩`\n",
    "\n",
    "The algorithm has these key steps:\n",
    "1. Initialize a superposition in counting register using Hadamard gates\n",
    "2. Apply controlled modular multiplications \n",
    "3. Use inverse quantum Fourier transform\n",
    "4. Measure to obtain phase s/r\n",
    "5. Use classical post-processing (continued fractions) to find r\n",
    "\n",
    "## 2. Implementation for 12-bit Numbers\n",
    "\n",
    "Our implementation handles 12-bit semiprime numbers (like 3127 = 53 × 59). This requires:\n",
    "- 12 qubits for counting register (phase estimation)\n",
    "- 13 qubits for work register (modular arithmetic, ceil(log2(N)) + 1)\n",
    "- Total circuit depth of about 781 gates"
   ]
  },
  {
   "cell_type": "markdown",
   "metadata": {},
   "source": [
    "### imports"
   ]
  },
  {
   "cell_type": "code",
   "execution_count": 1,
   "metadata": {},
   "outputs": [],
   "source": [
    "import QuantumRingsLib\n",
    "from QuantumRingsLib import QuantumRegister, ClassicalRegister, QuantumCircuit\n",
    "from QuantumRingsLib import QuantumRingsProvider\n",
    "from QuantumRingsLib import job_monitor\n",
    "import math\n",
    "from fractions import Fraction\n",
    "\n",
    "\n",
    "# Semiprime numbers to factor\n",
    "semiprimes = {\n",
    "    1: 3127,  # 53 * 59 = 3127\n",
    "    2: 3131  # 31 * 101 = 3131  (check if it wokrs for other prime numbers of same size)\n",
    "}"
   ]
  },
  {
   "cell_type": "markdown",
   "metadata": {},
   "source": [
    "### helper functions"
   ]
  },
  {
   "cell_type": "code",
   "execution_count": 2,
   "metadata": {},
   "outputs": [],
   "source": [
    "def find_period(phase, N, a):\n",
    "    \"\"\"Estimates the period using continued fractions.\"\"\"\n",
    "    for i in range(1, 2000):  \n",
    "        frac = Fraction(phase).limit_denominator(i)\n",
    "        r = frac.denominator\n",
    "        if (pow(a, r, N) == 1):\n",
    "            return r\n",
    "    return 0\n",
    "\n",
    "\n",
    "\n",
    "\n",
    "\n",
    "def calculate_factors(N, a, r):\n",
    "    \"\"\"Classical post-processing to find factors.\"\"\"\n",
    "    if r % 2 != 0 or r == 0:\n",
    "        return None, None\n",
    "    \n",
    "    x = pow(a, r // 2, N)\n",
    "    factor1 = math.gcd(x - 1, N)\n",
    "    factor2 = math.gcd(x + 1, N)\n",
    "    \n",
    "    if factor1 == 1 or factor2 == 1 or factor1 * factor2 != N:\n",
    "        return None, None\n",
    "    return factor1, factor2"
   ]
  },
  {
   "cell_type": "markdown",
   "metadata": {},
   "source": [
    "### main function"
   ]
  },
  {
   "cell_type": "code",
   "execution_count": 3,
   "metadata": {},
   "outputs": [],
   "source": [
    "def factor_semiprime(N, backend):\n",
    "    \"\"\"Main function implementing Shor's algorithm for 12-bit numbers.\"\"\"\n",
    "    # Find coprime a\n",
    "    a = 2\n",
    "    while math.gcd(a, N) != 1:\n",
    "        a += 1\n",
    "        if a > N:\n",
    "            raise ValueError(f\"No coprime 'a' found for N = {N}\")\n",
    "    \n",
    "    # Circuit parameters\n",
    "    n_count = 12  #12 counting qubits for 12-bit numbers\n",
    "    target_size = math.ceil(math.log(N, 2)) + 1\n",
    "    \n",
    "    # Create quantum circuit\n",
    "    qr = QuantumRegister(n_count + target_size, 'q')\n",
    "    cr = ClassicalRegister(n_count, 'c')\n",
    "    qc = QuantumCircuit(qr, cr)\n",
    "    \n",
    "    # Initialize counting register with Hadamard gates\n",
    "    for q in range(n_count):\n",
    "        qc.h(qr[q])\n",
    "    \n",
    "    # Initialize target register\n",
    "    qc.x(qr[n_count])\n",
    "    \n",
    "    # Controlled modular exponentiation\n",
    "    for q in range(n_count):\n",
    "        power = 2**q\n",
    "        c = pow(a, power, N)\n",
    "        for i in range(target_size):\n",
    "            if (c >> i) & 1:\n",
    "                qc.cx(qr[q], qr[n_count + i])\n",
    "    \n",
    "    # Inverse QFT\n",
    "    for j in range(n_count):\n",
    "        for m in range(j):\n",
    "            angle = -math.pi / float(2**(j-m))\n",
    "            qc.cu1(angle, qr[m], qr[j])\n",
    "        qc.h(qr[j])\n",
    "    \n",
    "    # Measure\n",
    "    qc.measure([qr[i] for i in range(n_count)], cr)\n",
    "    \n",
    "    # Execute with increased shots for better accuracy\n",
    "    job = backend.run(qc, shots=2048)  # Increased shots for larger numbers\n",
    "    job_monitor(job)\n",
    "    result = job.result()\n",
    "    \n",
    "    # Process results\n",
    "    for measured_result in result.get_memory():\n",
    "        phase = int(measured_result, 2) / (2**n_count)\n",
    "        r = find_period(phase, N, a)\n",
    "        if r > 0:\n",
    "            factor1, factor2 = calculate_factors(N, a, r)\n",
    "            if factor1 is not None:\n",
    "                return factor1, factor2\n",
    "    \n",
    "    return None, None"
   ]
  },
  {
   "cell_type": "markdown",
   "metadata": {},
   "source": [
    "### execute"
   ]
  },
  {
   "cell_type": "code",
   "execution_count": 4,
   "metadata": {},
   "outputs": [
    {
     "name": "stdout",
     "output_type": "stream",
     "text": [
      "\n",
      "Factoring N = 3127 (bit size 12)\n",
      "Job Queued\n",
      "Job Running\n",
      "Job Running\n",
      "Job Done.\n",
      "Ending Job Monitor\n",
      "Successfully factored 3127 = 59 * 53\n",
      "\n",
      "Factoring N = 3131 (bit size 12)\n",
      "Job Queued\n",
      "Job Running\n",
      "Job Running\n",
      "Job Done.\n",
      "Ending Job Monitor\n",
      "Successfully factored 3131 = 31 * 101\n"
     ]
    }
   ],
   "source": [
    "def main():\n",
    "    # Initialize Quantum Rings provider\n",
    "    provider = QuantumRingsProvider()\n",
    "    backend = provider.get_backend(\"scarlet_quantum_rings\")\n",
    "    \n",
    "    # Factor each semiprime\n",
    "    for bit_size, N in semiprimes.items():\n",
    "        print(f\"\\nFactoring N = {N} (bit size 12)\")\n",
    "        factor1, factor2 = factor_semiprime(N, backend)\n",
    "        \n",
    "        if factor1 and factor2:\n",
    "            print(f\"Successfully factored {N} = {factor1} * {factor2}\")\n",
    "        else:\n",
    "            print(f\"Failed to factor {N}\")\n",
    "\n",
    "if __name__ == \"__main__\":\n",
    "    main()"
   ]
  },
  {
   "cell_type": "markdown",
   "metadata": {},
   "source": [
    "### Scalability Analysis\n",
    "The implementation successfully factors 12-bit semiprime numbers but has a fundamental limitation in scaling to larger numbers. With hardcoded 12 qubits in the counting register and 13 qubits for work register (modular arithmetic), it cannot handle larger semiprimes without code modifications. The current gate count of 781 for 12-bit numbers indicates the circuit complexity.\n",
    "For factoring larger numbers:\n",
    "\n",
    "n-bit number requires ~2n counting qubits\n",
    "Additional n+1 qubits needed for work register\n",
    "Circuit depth grows with O(n³)\n",
    "\n",
    "The implementation would need dynamic qubit allocation and optimized modular multiplication circuits to handle larger semiprimes efficiently."
   ]
  },
  {
   "cell_type": "markdown",
   "metadata": {},
   "source": []
  }
 ],
 "metadata": {
  "kernelspec": {
   "display_name": "quantum_project",
   "language": "python",
   "name": "python3"
  },
  "language_info": {
   "codemirror_mode": {
    "name": "ipython",
    "version": 3
   },
   "file_extension": ".py",
   "mimetype": "text/x-python",
   "name": "python",
   "nbconvert_exporter": "python",
   "pygments_lexer": "ipython3",
   "version": "3.13.1"
  }
 },
 "nbformat": 4,
 "nbformat_minor": 2
}
